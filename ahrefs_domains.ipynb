{
 "cells": [
  {
   "cell_type": "code",
   "execution_count": 4,
   "metadata": {
    "scrolled": false
   },
   "outputs": [],
   "source": [
    "import pandas as pd\n",
    "import glob\n",
    "\n",
    "#Read files\n",
    "csv_files = glob.glob(\"*.csv\")\n",
    "\n",
    "#Write domains to the list mass\n",
    "mass = []\n",
    "for file in csv_files:\n",
    "    data = pd.read_csv(file)\n",
    "    domains = data['Referring Domain']\n",
    "    for d in domains:\n",
    "        mass.append(d)\n",
    "\n",
    "#Remove duplicates        \n",
    "mass = set(mass)\n",
    "\n",
    "#Write the results to the file domains.txt\n",
    "with open('domains.txt', 'w', encoding=\"utf-8\") as r:\n",
    "    for x in mass:\n",
    "        r.write(f'{x}' + '\\n')\n",
    "    \n",
    "    "
   ]
  },
  {
   "cell_type": "code",
   "execution_count": null,
   "metadata": {},
   "outputs": [],
   "source": []
  }
 ],
 "metadata": {
  "kernelspec": {
   "display_name": "Python 3",
   "language": "python",
   "name": "python3"
  },
  "language_info": {
   "codemirror_mode": {
    "name": "ipython",
    "version": 3
   },
   "file_extension": ".py",
   "mimetype": "text/x-python",
   "name": "python",
   "nbconvert_exporter": "python",
   "pygments_lexer": "ipython3",
   "version": "3.7.6"
  }
 },
 "nbformat": 4,
 "nbformat_minor": 4
}
