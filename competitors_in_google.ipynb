{
 "cells": [
  {
   "cell_type": "code",
   "execution_count": null,
   "metadata": {},
   "outputs": [],
   "source": [
    "from requests_html import HTMLSession\n",
    "import time\n",
    "import random\n",
    "from operator import itemgetter\n",
    "\n",
    "#Read keywords from keys.txt\n",
    "keys = []\n",
    "with open ('keys.txt', 'r', encoding='utf-8') as k:\n",
    "    for line in k:\n",
    "        line = line.strip()\n",
    "        keys.append(line)\n",
    "\n",
    "#Parse google.ru for a list of keywords        \n",
    "spisok = []\n",
    "session = HTMLSession()\n",
    "for k in keys:\n",
    "    res = session.get(f'https://www.google.ru/search?q={k}&num=10&hl=ru')\n",
    "    links = res.html.xpath('//div[@class=\"g\"]/div[@class=\"rc\"]/div[@class=\"yuRUbf\"]/a/@href')\n",
    "    domains = [x.split('/')[2] for x in links if 'http' in x]\n",
    "    spisok.append(domains)\n",
    "    random_timeout = random.randint(4, 10)\n",
    "    time.sleep(random_timeout)"
   ]
  },
  {
   "cell_type": "code",
   "execution_count": null,
   "metadata": {},
   "outputs": [],
   "source": [
    "#Sort results in descending order\n",
    "common_list = []\n",
    "for x in spisok:\n",
    "    common_list.extend(x)\n",
    "\n",
    "result = {i: common_list.count(i) for i in common_list}\n",
    "sortirovka = list(result.items())\n",
    "\n",
    "result = sorted(sortirovka, key=itemgetter(1), reverse = True)\n",
    "result\n"
   ]
  },
  {
   "cell_type": "code",
   "execution_count": null,
   "metadata": {},
   "outputs": [],
   "source": [
    "#Writing results to file result_keys.txt\n",
    "result = dict(result)\n",
    "with open ('result_keys.txt', 'w', encoding='utf-8') as b:\n",
    "    for dom, chast in result.items():\n",
    "        b.write(f'{dom}\\t{chast}' + '\\n')\n",
    "        \n",
    "        print(f'{dom}\\t{chast}')\n",
    "    \n",
    "    \n",
    "\n"
   ]
  },
  {
   "cell_type": "code",
   "execution_count": null,
   "metadata": {},
   "outputs": [],
   "source": []
  }
 ],
 "metadata": {
  "kernelspec": {
   "display_name": "Python 3",
   "language": "python",
   "name": "python3"
  },
  "language_info": {
   "codemirror_mode": {
    "name": "ipython",
    "version": 3
   },
   "file_extension": ".py",
   "mimetype": "text/x-python",
   "name": "python",
   "nbconvert_exporter": "python",
   "pygments_lexer": "ipython3",
   "version": "3.7.6"
  }
 },
 "nbformat": 4,
 "nbformat_minor": 2
}
