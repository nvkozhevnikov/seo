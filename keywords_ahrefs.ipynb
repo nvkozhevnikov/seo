{
 "cells": [
  {
   "cell_type": "code",
   "execution_count": 5,
   "metadata": {},
   "outputs": [
    {
     "name": "stdout",
     "output_type": "stream",
     "text": [
      "Количество ключевых фраз всего :  492\n",
      "Количество ключевых фраз уникальных :  373\n"
     ]
    }
   ],
   "source": [
    "import pandas as pd\n",
    "import glob\n",
    "\n",
    "#Read files\n",
    "csv_files = glob.glob(\"*.csv\")\n",
    "\n",
    "# Write domains to the list mass\n",
    "mass = []\n",
    "for file in csv_files:\n",
    "    data = pd.read_csv(file, delimiter=',')\n",
    "    keywords = data['Keyword']\n",
    "    for k in keywords:\n",
    "        mass.append(k)\n",
    "print('Количество ключевых фраз всего : ',len(mass))\n",
    "\n",
    "#Remove duplicates        \n",
    "mass = set(mass)\n",
    "print('Количество ключевых фраз уникальных : ',len(mass))\n",
    "\n",
    "#Write the results to the file domains.txt\n",
    "with open('keywords_from_ahrefs.txt', 'w', encoding=\"utf-8\") as r:\n",
    "    for x in mass:\n",
    "        r.write(f'{x}' + '\\n')"
   ]
  },
  {
   "cell_type": "code",
   "execution_count": null,
   "metadata": {},
   "outputs": [],
   "source": []
  }
 ],
 "metadata": {
  "kernelspec": {
   "display_name": "Python 3",
   "language": "python",
   "name": "python3"
  },
  "language_info": {
   "codemirror_mode": {
    "name": "ipython",
    "version": 3
   },
   "file_extension": ".py",
   "mimetype": "text/x-python",
   "name": "python",
   "nbconvert_exporter": "python",
   "pygments_lexer": "ipython3",
   "version": "3.7.6"
  }
 },
 "nbformat": 4,
 "nbformat_minor": 4
}
